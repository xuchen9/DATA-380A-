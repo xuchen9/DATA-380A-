{
 "cells": [
  {
   "cell_type": "markdown",
   "metadata": {},
   "source": [
    "Question 1"
   ]
  },
  {
   "cell_type": "code",
   "execution_count": 213,
   "metadata": {},
   "outputs": [
    {
     "name": "stdout",
     "output_type": "stream",
     "text": [
      "what is your number12\n",
      "479001600.0\n"
     ]
    }
   ],
   "source": [
    "num=int(input('what is your number'))\n",
    "\n",
    "def fractorial(n):\n",
    "    for i in range(1,n+1):\n",
    "        n=n*i\n",
    "    result=n/num\n",
    "    print(result)\n",
    "           \n",
    "fractorial(12)  \n",
    "    "
   ]
  },
  {
   "cell_type": "markdown",
   "metadata": {},
   "source": [
    "Question 2"
   ]
  },
  {
   "cell_type": "code",
   "execution_count": 214,
   "metadata": {},
   "outputs": [
    {
     "name": "stdout",
     "output_type": "stream",
     "text": [
      "Massachusetts has a vaccination rate of 55%.\n",
      "Connecticut has a vaccination rate of 54%.\n",
      "Pennsylvania has a vaccination rate of 45%.\n",
      "Maryland has a vaccination rate of 49%.\n",
      "California has a vaccination rate of 44%.\n"
     ]
    }
   ],
   "source": [
    "#Zip\n",
    "\n",
    "states=('Massachusetts', 'Connecticut','Pennsylvania', 'Maryland','California')\n",
    "rates=(55, 54, 45, 49, 44)\n",
    "\n",
    "\n",
    "for s,r in zip(states, rates):\n",
    "    print(f'{s} has a vaccination rate of {r}%.')"
   ]
  },
  {
   "cell_type": "code",
   "execution_count": 215,
   "metadata": {},
   "outputs": [],
   "source": [
    "states=('Massachusetts', 'Connecticut','Pennsylvania', 'Maryland','California')\n",
    "rates=(55, 54, 45, 49, 44)\n",
    "\n",
    "zipped=zip(states, rates)\n",
    "items=list(zipped)\n"
   ]
  },
  {
   "cell_type": "code",
   "execution_count": 216,
   "metadata": {},
   "outputs": [
    {
     "name": "stdout",
     "output_type": "stream",
     "text": [
      "Massachusetts has a vaccination rate of 55%.\n",
      "Connecticut has a vaccination rate of 54%.\n",
      "Pennsylvania has a vaccination rate of 45%.\n",
      "Maryland has a vaccination rate of 49%.\n",
      "California has a vaccination rate of 44%.\n"
     ]
    }
   ],
   "source": [
    "for i in range(5):\n",
    "    print(f'{states[i]} has a vaccination rate of {rates[i]}%.')"
   ]
  },
  {
   "cell_type": "markdown",
   "metadata": {},
   "source": [
    "reference \n",
    "\n",
    "`letters = ['a', 'b', 'c']\n",
    "numbers = [0, 1, 2]\n",
    "operators = ['*', '/', '+']\n",
    "for l, n, o in zip(letters, numbers, operators):\n",
    "    print(f'Letter: {l}')\n",
    "    print(f'Number: {n}')\n",
    "    print(f'Operator: {o}')`"
   ]
  },
  {
   "cell_type": "code",
   "execution_count": 217,
   "metadata": {},
   "outputs": [
    {
     "name": "stdout",
     "output_type": "stream",
     "text": [
      "states 0 is Massachusetts, which has a vaccination rate of 55%\n",
      "states 1 is Connecticut, which has a vaccination rate of 54%\n",
      "states 2 is Pennsylvania, which has a vaccination rate of 45%\n",
      "states 3 is Maryland, which has a vaccination rate of 49%\n",
      "states 4 is California, which has a vaccination rate of 44%\n"
     ]
    }
   ],
   "source": [
    "#enumerate \n",
    "\n",
    "states=('Massachusetts', 'Connecticut','Pennsylvania', 'Maryland','California')\n",
    "rates=(55, 54, 45, 49, 44)\n",
    "\n",
    "for s,r in enumerate(rates):\n",
    "    print(f'states {s} is {states[s]}, which has a vaccination rate of {r}%')"
   ]
  },
  {
   "cell_type": "markdown",
   "metadata": {},
   "source": [
    "reference \n",
    "\n",
    "`for count, value in enumerate(values):\n",
    "    print(count, value)`"
   ]
  },
  {
   "cell_type": "markdown",
   "metadata": {},
   "source": [
    "Question 3"
   ]
  },
  {
   "cell_type": "code",
   "execution_count": 218,
   "metadata": {},
   "outputs": [
    {
     "name": "stdout",
     "output_type": "stream",
     "text": [
      "25.88734567901235\n"
     ]
    }
   ],
   "source": [
    "def get_PV(FP, n, i):\n",
    "    PV=0\n",
    "    for x in range(1,n+1):\n",
    "        \n",
    "        PV1=FP/((1+i)**x)\n",
    "        PV+=PV1\n",
    "    print(PV)\n",
    "    \n",
    "get_PV(10,4,0.2)    "
   ]
  },
  {
   "cell_type": "markdown",
   "metadata": {},
   "source": [
    "Sarah: n=15, i=4.5%=0.045, FP=20,000"
   ]
  },
  {
   "cell_type": "code",
   "execution_count": 219,
   "metadata": {},
   "outputs": [
    {
     "name": "stdout",
     "output_type": "stream",
     "text": [
      "214790.9145263258\n"
     ]
    }
   ],
   "source": [
    "get_PV(20000,15,0.045)"
   ]
  },
  {
   "cell_type": "markdown",
   "metadata": {},
   "source": [
    "David->coupon: n=10, FV=10,000, coupon rate=6%, PV=9540, find YTM "
   ]
  },
  {
   "cell_type": "code",
   "execution_count": 220,
   "metadata": {},
   "outputs": [
    {
     "name": "stdout",
     "output_type": "stream",
     "text": [
      "0.06612077789150461\n"
     ]
    }
   ],
   "source": [
    "def get_YTM(rate,FV,PV,n):\n",
    "    C=rate*FV\n",
    "    YTM=(C+((FV-PV)/n))/((FV+PV)/2)\n",
    "    print(YTM)\n",
    "get_YTM(0.06, 10000,9540,10)"
   ]
  },
  {
   "cell_type": "markdown",
   "metadata": {},
   "source": [
    "FV=1000, coupon rate=10%=0.1"
   ]
  },
  {
   "cell_type": "code",
   "execution_count": 221,
   "metadata": {},
   "outputs": [
    {
     "name": "stdout",
     "output_type": "stream",
     "text": [
      "0.0799878255917843\n",
      "below the coupon rate\n"
     ]
    }
   ],
   "source": [
    "# n=1, PV=1018.53\n",
    "\n",
    "def YTM(rate,FV,PV,n):\n",
    "    C=rate*FV\n",
    "    YTM=((FV+C)/PV)-1\n",
    "    print(YTM)\n",
    "    if YTM>rate:\n",
    "        print('above the coupon rate')\n",
    "    else:\n",
    "        print('below the coupon rate')\n",
    "YTM(0.1, 1000,1018.53, 1)\n",
    "\n"
   ]
  },
  {
   "cell_type": "code",
   "execution_count": 222,
   "metadata": {},
   "outputs": [
    {
     "name": "stdout",
     "output_type": "stream",
     "text": [
      "0.11959287531806616\n",
      "above the coupon rate\n"
     ]
    }
   ],
   "source": [
    "# n=2, PV=965\n",
    "def get_YTM(rate,FV,PV,n):\n",
    "    C=rate*FV\n",
    "    YTM=(C+((FV-PV)/n))/((FV+PV)/2)\n",
    "    print(YTM)\n",
    "    if YTM>rate:\n",
    "        print('above the coupon rate')\n",
    "    else:\n",
    "        print('below the coupon rate')\n",
    "get_YTM(0.1, 1000,965,2)"
   ]
  },
  {
   "cell_type": "code",
   "execution_count": 225,
   "metadata": {},
   "outputs": [
    {
     "name": "stdout",
     "output_type": "stream",
     "text": [
      "1054.2405450257663\n"
     ]
    }
   ],
   "source": [
    "#n=2, i=7% \n",
    "\n",
    "def get_PV(FV, n, i):\n",
    "    PV=0\n",
    "    for x in range(1,n+1):\n",
    "        #100= $1000*10%\n",
    "        PV1=100/((1+i)**x) \n",
    "        PV+=PV1\n",
    "        PV2=FV/((1+i)**n)\n",
    "        total=PV+PV2\n",
    "    print(total)\n",
    "    \n",
    "get_PV(1000,2,0.07)"
   ]
  }
 ],
 "metadata": {
  "kernelspec": {
   "display_name": "Python 3",
   "language": "python",
   "name": "python3"
  },
  "language_info": {
   "codemirror_mode": {
    "name": "ipython",
    "version": 3
   },
   "file_extension": ".py",
   "mimetype": "text/x-python",
   "name": "python",
   "nbconvert_exporter": "python",
   "pygments_lexer": "ipython3",
   "version": "3.8.3"
  }
 },
 "nbformat": 4,
 "nbformat_minor": 4
}
